{
 "cells": [
  {
   "cell_type": "code",
   "execution_count": 17,
   "id": "05255eed",
   "metadata": {},
   "outputs": [],
   "source": [
    "import numpy as np"
   ]
  },
  {
   "cell_type": "code",
   "execution_count": 18,
   "id": "c994ca4e",
   "metadata": {},
   "outputs": [
    {
     "name": "stdout",
     "output_type": "stream",
     "text": [
      "<class 'numpy.ndarray'>\n",
      "<class 'list'>\n"
     ]
    }
   ],
   "source": [
    "array = np.array([1,2,3,4,5])\n",
    "py_array = [1,2,3,4,5]\n",
    "\n",
    "print(type(array))\n",
    "print(type(py_array))\n"
   ]
  },
  {
   "cell_type": "code",
   "execution_count": 19,
   "id": "7730913b",
   "metadata": {},
   "outputs": [
    {
     "name": "stdout",
     "output_type": "stream",
     "text": [
      "Numpy Array multiplication [ 2  4  6  8 10]\n",
      "Python List multiplication [1, 2, 3, 4, 5, 1, 2, 3, 4, 5]\n"
     ]
    }
   ],
   "source": [
    "print(\"Numpy Array multiplication\", array * 2)\n",
    "print(\"Python List multiplication\", py_array * 2)\n"
   ]
  },
  {
   "cell_type": "code",
   "execution_count": 20,
   "id": "c5ce48bb",
   "metadata": {},
   "outputs": [],
   "source": [
    "import time"
   ]
  },
  {
   "cell_type": "code",
   "execution_count": 21,
   "id": "2ecec36e",
   "metadata": {},
   "outputs": [],
   "source": [
    "# pip install numpy"
   ]
  },
  {
   "cell_type": "code",
   "execution_count": 23,
   "id": "66018828",
   "metadata": {},
   "outputs": [
    {
     "name": "stdout",
     "output_type": "stream",
     "text": [
      "Lists: 0.17927765846252441\n",
      "Numpy Array: 0.007311105728149414\n"
     ]
    }
   ],
   "source": [
    "t = time.time() #start time\n",
    "[x + x for x in range(10**6)]\n",
    "print(\"Lists:\", time.time() - t) # finish time - start time\n",
    "\n",
    "t = time.time() #start time\n",
    "(np.arange(10**6) * 2)\n",
    "print(\"Numpy Array:\", time.time() - t) # finish time - start time"
   ]
  },
  {
   "cell_type": "code",
   "execution_count": 24,
   "id": "d67c3a1e",
   "metadata": {},
   "outputs": [],
   "source": [
    "arr = np.arange(0,10,2)"
   ]
  },
  {
   "cell_type": "code",
   "execution_count": 25,
   "id": "ddf0c19f",
   "metadata": {},
   "outputs": [
    {
     "data": {
      "text/plain": [
       "array([0, 2, 4, 6, 8])"
      ]
     },
     "execution_count": 25,
     "metadata": {},
     "output_type": "execute_result"
    }
   ],
   "source": [
    "arr"
   ]
  },
  {
   "cell_type": "code",
   "execution_count": 27,
   "id": "54952c02",
   "metadata": {},
   "outputs": [
    {
     "name": "stdout",
     "output_type": "stream",
     "text": [
      "[[0. 0. 0.]\n",
      " [0. 0. 0.]]\n"
     ]
    }
   ],
   "source": [
    "zero_arr = np.zeros((2,3))\n",
    "one_arr = np.ones((2,3))\n",
    "print(zero_arr)"
   ]
  },
  {
   "cell_type": "code",
   "execution_count": 31,
   "id": "d913c22e",
   "metadata": {},
   "outputs": [
    {
     "name": "stdout",
     "output_type": "stream",
     "text": [
      "(2, 4)\n",
      "8\n"
     ]
    },
    {
     "data": {
      "text/plain": [
       "dtype('int32')"
      ]
     },
     "execution_count": 31,
     "metadata": {},
     "output_type": "execute_result"
    }
   ],
   "source": [
    "mult_arr = np.array([[1,2,3,4],[5,6,7,8]])\n",
    "print(mult_arr.shape)\n",
    "print(mult_arr.size)\n",
    "mult_arr.ndim\n",
    "mult_arr.dtype"
   ]
  },
  {
   "cell_type": "code",
   "execution_count": 32,
   "id": "0ee0b41e",
   "metadata": {},
   "outputs": [
    {
     "data": {
      "text/plain": [
       "array([1, 2, 3, 4])"
      ]
     },
     "execution_count": 32,
     "metadata": {},
     "output_type": "execute_result"
    }
   ],
   "source": [
    "mult_arr[0]"
   ]
  },
  {
   "cell_type": "code",
   "execution_count": 36,
   "id": "ceb4e25e",
   "metadata": {},
   "outputs": [
    {
     "name": "stdout",
     "output_type": "stream",
     "text": [
      "[[1 2 3 4]\n",
      " [5 6 7 8]]\n",
      "2\n",
      "[1 2 3 4]\n",
      "7\n"
     ]
    }
   ],
   "source": [
    "print(mult_arr[:,:])\n",
    "print(mult_arr[0 , 1])\n",
    "print(mult_arr[0 , :])\n",
    "print(mult_arr[1 , 2])\n",
    "\n"
   ]
  },
  {
   "cell_type": "code",
   "execution_count": 37,
   "id": "7631bf32",
   "metadata": {},
   "outputs": [
    {
     "name": "stdout",
     "output_type": "stream",
     "text": [
      "[0 1 2 3 4 5]\n"
     ]
    }
   ],
   "source": [
    "np_arr = np.arange(6)\n",
    "print(np_arr)"
   ]
  },
  {
   "cell_type": "code",
   "execution_count": 38,
   "id": "6a7af5e1",
   "metadata": {},
   "outputs": [],
   "source": [
    "np_arr1 = np_arr.reshape((2,3))"
   ]
  },
  {
   "cell_type": "code",
   "execution_count": 39,
   "id": "9e8de139",
   "metadata": {},
   "outputs": [
    {
     "data": {
      "text/plain": [
       "array([[0, 1, 2],\n",
       "       [3, 4, 5]])"
      ]
     },
     "execution_count": 39,
     "metadata": {},
     "output_type": "execute_result"
    }
   ],
   "source": [
    "np_arr1"
   ]
  },
  {
   "cell_type": "code",
   "execution_count": 42,
   "id": "60a00f92",
   "metadata": {},
   "outputs": [
    {
     "name": "stdout",
     "output_type": "stream",
     "text": [
      "b[0] 67\n",
      "a[0] 1\n"
     ]
    }
   ],
   "source": [
    "a = np.array([1,2,3])\n",
    "b = a.copy()\n",
    "b[0] = 67\n",
    "print(\"b[0]\", b[0])\n",
    "print(\"a[0]\", a[0])"
   ]
  },
  {
   "cell_type": "code",
   "execution_count": 41,
   "id": "be19a788",
   "metadata": {},
   "outputs": [
    {
     "name": "stdout",
     "output_type": "stream",
     "text": [
      "b[0] 67\n",
      "a[0] 67\n"
     ]
    }
   ],
   "source": [
    "a = np.array([1,2,3])\n",
    "b = a.view()\n",
    "b[0] = 67\n",
    "print(\"b[0]\", b[0])\n",
    "print(\"a[0]\", a[0])\n"
   ]
  },
  {
   "cell_type": "code",
   "execution_count": 48,
   "id": "c2e4a3f9",
   "metadata": {},
   "outputs": [
    {
     "name": "stdout",
     "output_type": "stream",
     "text": [
      "[5 7 9]\n",
      "[-3 -3 -3]\n",
      "[ 4 10 18]\n",
      "[0.25 0.4  0.5 ]\n"
     ]
    }
   ],
   "source": [
    "a1 = np.array([1,2,3])\n",
    "b1 = np.array([4,5,6])\n",
    "print(a1+b1)\n",
    "print(a1-b1)\n",
    "print(a1*b1)\n",
    "print(a1/b1)\n"
   ]
  },
  {
   "cell_type": "code",
   "execution_count": 49,
   "id": "0a18ff87",
   "metadata": {},
   "outputs": [
    {
     "name": "stdout",
     "output_type": "stream",
     "text": [
      "15\n",
      "3.0\n",
      "1.4142135623730951\n",
      "1\n",
      "5\n",
      "[1.         1.41421356 1.73205081 2.         2.23606798]\n",
      "[  2.71828183   7.3890561   20.08553692  54.59815003 148.4131591 ]\n",
      "[0.         0.69314718 1.09861229 1.38629436 1.60943791]\n"
     ]
    }
   ],
   "source": [
    "arr = np.array([1,2,3,4,5])\n",
    "print(arr.sum())\n",
    "print(arr.mean())\n",
    "print(arr.std())\n",
    "print(arr.min())\n",
    "print(arr.max())\n",
    "print(np.sqrt(arr))\n",
    "print(np.exp(arr))\n",
    "print(np.log(arr))"
   ]
  }
 ],
 "metadata": {
  "kernelspec": {
   "display_name": "base",
   "language": "python",
   "name": "python3"
  },
  "language_info": {
   "codemirror_mode": {
    "name": "ipython",
    "version": 3
   },
   "file_extension": ".py",
   "mimetype": "text/x-python",
   "name": "python",
   "nbconvert_exporter": "python",
   "pygments_lexer": "ipython3",
   "version": "3.12.7"
  }
 },
 "nbformat": 4,
 "nbformat_minor": 5
}
